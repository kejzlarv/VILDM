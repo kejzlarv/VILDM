{
 "cells": [
  {
   "cell_type": "code",
   "execution_count": 325,
   "id": "25f7bdd8",
   "metadata": {},
   "outputs": [],
   "source": [
    "import torch\n",
    "import time\n",
    "import numpy as np\n",
    "import seaborn as sns\n",
    "from torch import nn\n",
    "import matplotlib.pyplot as plt\n",
    "from torch.distributions import Normal\n",
    "import pandas as pd"
   ]
  },
  {
   "cell_type": "code",
   "execution_count": 326,
   "id": "0e3c885d",
   "metadata": {},
   "outputs": [],
   "source": [
    "def LDM_input_matrix(BE_data_train):\n",
    "    \"\"\"LDM matrix of covariates\"\"\"\n",
    "    \n",
    "    # Precalc of A\n",
    "    A = (BE_data_train[\"Z\"] + BE_data_train[\"N\"]).values\n",
    "    # a_vol term\n",
    "    X = A[:, None]\n",
    "    # a_surf term\n",
    "    X = np.concatenate([X,  -A[:, None] ** (2/ 3)], axis = 1)\n",
    "    # a_sym term\n",
    "    X = np.concatenate([X, -((BE_data_train[\"N\"] - BE_data_train[\"Z\"]).values[:, None] ** 2) / (A[:, None])],\n",
    "                       axis = 1)\n",
    "    # a_C term\n",
    "    \n",
    "    X = np.concatenate([X, -((BE_data_train[\"Z\"]).values[:, None] * ((BE_data_train[\"Z\"]).values[:, None] - 1)) / (A[:, None] ** (1 / 3))],\n",
    "                       axis = 1)\n",
    "    return X\n",
    "\n",
    "\n",
    "def BE_load_train(source, Z_range, N_range):\n",
    "    \"\"\"Function loads the BE dataset and returns training AME2003 data for given range Z and N\n",
    "    \n",
    "    Args:cor\n",
    "        source: path to the source file\n",
    "        Z_range: list of upper bound and lower bound on Z (inclusive)\n",
    "        N_range: list of upper bound and lower bound on N (inclusive)\n",
    "    Return:\n",
    "        BE_data_train: PD DataFrame with Z, N, BE, BE_per_A\n",
    "    \"\"\"\n",
    "    BE_data = pd.read_csv(source)\n",
    "    BE_data_train = BE_data.query(\"AME2003 != '*'\")[[\"Z\", \"N\", \"AME2003\"]]\n",
    "    BE_data_train = BE_data_train.astype('float')\n",
    "\n",
    "    # BE per nucleus\n",
    "    A = BE_data_train[\"Z\"] + BE_data_train[\"N\"]\n",
    "    BE_per_nucleus = BE_data_train[\"AME2003\"] / A\n",
    "    BE_data_train = BE_data_train.assign(BE_per_A = BE_per_nucleus)\n",
    "    \n",
    "    # BE in range\n",
    "    range_mask = (BE_data_train.Z >= Z_range[0]) & (BE_data_train.Z <= Z_range[1]) & \\\n",
    "                    (BE_data_train.N >= N_range[0]) & (BE_data_train.N <= N_range[1])\n",
    "    BE_data_train = BE_data_train[range_mask]\n",
    "    \n",
    "    return BE_data_train"
   ]
  },
  {
   "cell_type": "code",
   "execution_count": 327,
   "id": "61d2f042",
   "metadata": {},
   "outputs": [],
   "source": [
    "class MCElbo(torch.nn.Module):\n",
    "    def __init__(self, nMC, x_dim, n):\n",
    "        \"\"\"torch.nn\"\"\"\n",
    "        super(MCElbo, self).__init__()\n",
    "        \n",
    "        self.nMC = nMC\n",
    "        self.x_dim = x_dim\n",
    "        self.param_dim = x_dim\n",
    "        self.n = n\n",
    "        self.softplus = torch.nn.Softplus() # transformation of the variable\n",
    "        \n",
    "        ### Parameters for the variational posterior\n",
    "        \n",
    "        # Model parameters\n",
    "        self.q_theta_m = torch.nn.Parameter(torch.randn(1,x_dim) * 0 + 10)\n",
    "        self.q_theta_s = torch.nn.Parameter(torch.randn(1,x_dim))\n",
    "        \n",
    "        ### Prior distributions\n",
    "        self.prior_theta_m = torch.randn(1,x_dim)\n",
    "        self.prior_theta_s = torch.randn(1,x_dim)\n",
    "         \n",
    "        # Set appropriate values for prior likelihoods\n",
    "        self.prior_theta_m.data.fill_(0)\n",
    "        self.prior_theta_s.data.fill_(10)\n",
    "        \n",
    "        ### Current parameter state holder holder\n",
    "        self.theta = torch.randn(1,x_dim)\n",
    "        self.precision = torch.FloatTensor((1))\n",
    "        self.precision.data.fill_(1/ (2.97 ** 2))\n",
    "\n",
    "    \n",
    "    def log_Normal(self, param, m, s):\n",
    "        \"\"\"Computes log likelihood of log_normal density\n",
    "        Args:\n",
    "            param: 1 X K dimensional tensor\n",
    "            m: 1 X K dimensional mean tensor\n",
    "            s: 1 X K dimensional std tensor\n",
    "        \"\"\"\n",
    "        interm__ = ((param - m) / s).pow(2)\n",
    "        log_prob = - len(param) * np.log(2 * np.pi) / 2 - torch.log(s).sum() - 0.5 * interm__.sum()\n",
    "        return log_prob.reshape(1,1)\n",
    "    \n",
    "        \n",
    "    def q_log(self):\n",
    "        log_lkl = self.log_Normal(self.theta, self.q_theta_m, self.softplus(self.q_theta_s))  \n",
    "        return log_lkl\n",
    "        \n",
    "    def pri_log(self):\n",
    "        log_lkl = self.log_Normal(self.theta, self.prior_theta_m, self.prior_theta_s) \n",
    "        return log_lkl\n",
    "    \n",
    "    def generate_sample(self, n_var = 2):\n",
    "        return Normal(0,1).sample((self.nMC,n_var,1))\n",
    "    \n",
    "    def sample_reparam_normal(self, param, m, s):\n",
    "        return param.mul(self.softplus(s.T)).add(m.T)\n",
    "    \n",
    "        \n",
    "    def regression_likelihood(self, x, y):\n",
    "        \"\"\"Returns dat likelihood for one MC sample\"\"\"\n",
    "        y_fit = torch.matmul(x,self.theta.T).flatten()\n",
    "        log_likelihood = (torch.log(self.precision) - np.log(2 * np.pi)) * 0.5 * self.n  - 0.5 * self.precision * torch.sum(torch.pow(y-y_fit, 2))    \n",
    "        return log_likelihood\n",
    "    \n",
    "    def compute_elbo_loop(self, x, y):     \n",
    "        \n",
    "        z = self.generate_sample(n_var = self.param_dim)\n",
    "        theta = self.sample_reparam_normal(z, self.q_theta_m, self.q_theta_s)\n",
    "      \n",
    "        \n",
    "\n",
    "        loss = torch.randn(1,1)\n",
    "        loss.data.fill_(0.0)\n",
    "        \n",
    "        for i in range(self.nMC):\n",
    "            self.theta = theta[i].T\n",
    "            \n",
    "            q_likelihood = self.q_log()\n",
    "            prior_likelihood = self.pri_log()\n",
    "            data_likelihood = self.regression_likelihood(x, y)\n",
    "            loss += data_likelihood + prior_likelihood - q_likelihood\n",
    "        return loss / self.nMC\n",
    "    \n",
    "    def ModelString(self):\n",
    "        return f\"thetamean: {self.q_theta_m}\""
   ]
  },
  {
   "cell_type": "code",
   "execution_count": 328,
   "id": "daf95b34",
   "metadata": {},
   "outputs": [
    {
     "name": "stdout",
     "output_type": "stream",
     "text": [
      "Loss: 1833.3638916015625, Step [999/10000]\n",
      "thetamean: Parameter containing:\n",
      "tensor([[13.5710,  9.1128, 25.9634,  0.7190]], requires_grad=True)\n",
      "Minutes remaining 0.6279757389832943\n",
      "Loss: 681.1943359375, Step [1999/10000]\n",
      "thetamean: Parameter containing:\n",
      "tensor([[13.1738, 10.7616, 18.7919,  0.4971]], requires_grad=True)\n",
      "Minutes remaining 0.5602722175363424\n",
      "Loss: 460.23583984375, Step [2999/10000]\n",
      "thetamean: Parameter containing:\n",
      "tensor([[13.1748, 11.6571, 15.6562,  0.4375]], requires_grad=True)\n",
      "Minutes remaining 0.500565211483011\n",
      "Loss: 440.10400390625, Step [3999/10000]\n",
      "thetamean: Parameter containing:\n",
      "tensor([[13.3658, 12.2531, 15.6155,  0.4554]], requires_grad=True)\n",
      "Minutes remaining 0.4262762719724162\n",
      "Loss: 428.06817626953125, Step [4999/10000]\n",
      "thetamean: Parameter containing:\n",
      "tensor([[13.6155, 12.8538, 16.1359,  0.4856]], requires_grad=True)\n",
      "Minutes remaining 0.3553906744445508\n",
      "Loss: 418.05828857421875, Step [5999/10000]\n",
      "thetamean: Parameter containing:\n",
      "tensor([[13.8432, 13.3972, 16.6137,  0.5120]], requires_grad=True)\n",
      "Minutes remaining 0.2854607631731359\n",
      "Loss: 425.1109313964844, Step [6999/10000]\n",
      "thetamean: Parameter containing:\n",
      "tensor([[13.9915, 13.7266, 16.8934,  0.5225]], requires_grad=True)\n",
      "Minutes remaining 0.21438934910483046\n",
      "Loss: 427.77117919921875, Step [7999/10000]\n",
      "thetamean: Parameter containing:\n",
      "tensor([[14.0363, 13.8443, 17.0159,  0.5297]], requires_grad=True)\n",
      "Minutes remaining 0.14392529001890503\n",
      "Loss: 416.19171142578125, Step [8999/10000]\n",
      "thetamean: Parameter containing:\n",
      "tensor([[14.0452, 13.8579, 17.0256,  0.5274]], requires_grad=True)\n",
      "Minutes remaining 0.07158264966921908\n",
      "Loss: 412.75213623046875, Step [9999/10000]\n",
      "thetamean: Parameter containing:\n",
      "tensor([[14.0395, 13.8626, 17.0388,  0.5350]], requires_grad=True)\n",
      "Minutes remaining 7.156260662064233e-05\n",
      "42.93327021598816\n"
     ]
    }
   ],
   "source": [
    "torch.manual_seed(2)\n",
    "source = \"data_LDM_2019_BE_even_Z_even_N.csv\"\n",
    "Z_range =[0, 38]\n",
    "N_range = [0, 48]\n",
    "BE_data_train = BE_load_train(source, Z_range, N_range)\n",
    "\n",
    "x_train = torch.tensor(LDM_input_matrix(BE_data_train[['Z', 'N', 'AME2003', 'BE_per_A']]), dtype = torch.float)\n",
    "y_train = torch.tensor(BE_data_train.AME2003.values.flatten(), dtype = torch.float)\n",
    "\n",
    "model = MCElbo(nMC= 5, x_dim = x_train.shape[1], n = len(y_train))\n",
    "\n",
    "learning_rate = 2e-1\n",
    "optimizer = torch.optim.Adam(model.parameters(), lr = learning_rate)\n",
    "n_steps = 10000\n",
    "\n",
    "# Saving intermediate results\n",
    "loss_array = np.zeros(n_steps)\n",
    "time_array = np.zeros(n_steps)\n",
    "param_dictionary = {}\n",
    "for name, param in model.named_parameters():\n",
    "    param_dictionary[name] = []\n",
    "    \n",
    "startTime = time.time()\n",
    "for t in range(n_steps):\n",
    "    # Compute prediction\n",
    "    loss = - model.compute_elbo_loop(x_train, y_train)\n",
    "    # Zero gradinets\n",
    "    optimizer.zero_grad()\n",
    "    # Compute gradients\n",
    "    loss.backward()\n",
    "    optimizer.step()\n",
    "    \n",
    "    # Utiliti computation\n",
    "    loss_array[t] = loss.item()\n",
    "    time_array[t] = time.time() - startTime \n",
    "    \n",
    "    if t % 10 == 9: \n",
    "        for name, param in model.named_parameters():\n",
    "            param_dictionary[name] = param_dictionary[name] + [param.detach().clone().numpy()]\n",
    "    \n",
    "    if t % 1000 == 999:\n",
    "        print(f\"Loss: {loss.item()}, Step [{t}/{n_steps}]\")\n",
    "        print(model.ModelString())\n",
    "        # Time estimmate\n",
    "        print(f\"Minutes remaining {(time.time() - startTime) * (n_steps - t) / (t * 60)}\")\n",
    "\n",
    "endTime = time.time()\n",
    "print(endTime - startTime)"
   ]
  },
  {
   "cell_type": "code",
   "execution_count": 333,
   "id": "789b277b",
   "metadata": {},
   "outputs": [
    {
     "data": {
      "text/plain": [
       "[<matplotlib.lines.Line2D at 0x198a68d9748>]"
      ]
     },
     "execution_count": 333,
     "metadata": {},
     "output_type": "execute_result"
    },
    {
     "data": {
      "image/png": "[encoded data removed]",
      "text/plain": [
       "<Figure size 432x288 with 1 Axes>"
      ]
     },
     "metadata": {
      "needs_background": "light"
     },
     "output_type": "display_data"
    }
   ],
   "source": [
    "plt.plot(time_array[700:], -loss_array[700:])"
   ]
  },
  {
   "cell_type": "code",
   "execution_count": 345,
   "id": "da5fdf11",
   "metadata": {},
   "outputs": [
    {
     "name": "stdout",
     "output_type": "stream",
     "text": [
      "[14.042075   13.860318   17.026789    0.53266835]\n"
     ]
    }
   ],
   "source": [
    "means = np.mean(np.array(param_dictionary['q_theta_m']).reshape((len(np.array(param_dictionary['q_theta_m'])), model.x_dim))[-100:,:], axis = 0)\n",
    "print(means)"
   ]
  },
  {
   "cell_type": "code",
   "execution_count": 349,
   "id": "015cbd0a",
   "metadata": {},
   "outputs": [
    {
     "name": "stdout",
     "output_type": "stream",
     "text": [
      "tensor([0.0051, 0.0176, 0.1556, 0.0020])\n"
     ]
    }
   ],
   "source": [
    "sds = np.mean(np.array(param_dictionary['q_theta_s']).reshape((len(np.array(param_dictionary['q_theta_s'])), model.x_dim))[-100:,:], axis = 0)\n",
    "print(model.softplus(torch.tensor(sds)))"
   ]
  },
  {
   "cell_type": "code",
   "execution_count": 331,
   "id": "e8028c7e",
   "metadata": {},
   "outputs": [
    {
     "data": {
      "image/png": "[encoded data removed]",
      "text/plain": [
       "<Figure size 720x720 with 20 Axes>"
      ]
     },
     "metadata": {
      "needs_background": "light"
     },
     "output_type": "display_data"
    }
   ],
   "source": [
    "model.nMC = 10000\n",
    "z = model.generate_sample(n_var = model.param_dim)\n",
    "theta = model.sample_reparam_normal(z, model.q_theta_m, model.q_theta_s)\n",
    "\n",
    "alpha = 1\n",
    "bins = 100\n",
    "g = sns.PairGrid(pd.DataFrame(theta.detach().numpy().reshape(model.nMC, model.x_dim)))\n",
    "g.map_diag(plt.hist, bins = bins, alpha = alpha, color = \"blue\", density= True)\n",
    "g.map_lower(sns.kdeplot, shade= True, thresh=0.05, color = \"blue\")\n",
    "plt.show()"
   ]
  }
 ],
 "metadata": {
  "kernelspec": {
   "display_name": "Python 3",
   "language": "python",
   "name": "python3"
  },
  "language_info": {
   "codemirror_mode": {
    "name": "ipython",
    "version": 3
   },
   "file_extension": ".py",
   "mimetype": "text/x-python",
   "name": "python",
   "nbconvert_exporter": "python",
   "pygments_lexer": "ipython3",
   "version": "3.7.4"
  },
  "latex_envs": {
   "LaTeX_envs_menu_present": true,
   "autoclose": false,
   "autocomplete": true,
   "bibliofile": "biblio.bib",
   "cite_by": "apalike",
   "current_citInitial": 1,
   "eqLabelWithNumbers": true,
   "eqNumInitial": 1,
   "hotkeys": {
    "equation": "Ctrl-E",
    "itemize": "Ctrl-I"
   },
   "labels_anchors": false,
   "latex_user_defs": false,
   "report_style_numbering": false,
   "user_envs_cfg": false
  }
 },
 "nbformat": 4,
 "nbformat_minor": 5
}
